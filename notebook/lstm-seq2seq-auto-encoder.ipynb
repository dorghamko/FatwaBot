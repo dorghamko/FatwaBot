{
 "cells": [
  {
   "cell_type": "code",
   "execution_count": null,
   "metadata": {},
   "outputs": [],
   "source": [
    "import keras \n",
    "from keras.preprocessing.text import Tokenizer\n",
    "from keras.preprocessing.sequence import pad_sequences\n",
    "from keras.models import Sequential\n",
    "from keras.layers import Dense, Embedding, LSTM, RepeatVector\n",
    "from keras.utils import np_utils\n",
    "import sklearn \n",
    "import numpy as np\n",
    "import pandas as pd\n",
    "import re\n",
    "from nltk.stem.isri import ISRIStemmer\n",
    "from six.moves import cPickle\n",
    "\n",
    "df = pd.read_csv('../dataset/ASKFM-master/full_dataset.csv')\n"
   ]
  },
  {
   "cell_type": "code",
   "execution_count": null,
   "metadata": {},
   "outputs": [],
   "source": [
    "BATCH_SIZE = 16 # Batch size for CPU\n",
    "NUM_WORDS = 10000 # Vocab length\n",
    "MAX_LEN = 20 # Padding length (# of words)\n",
    "LSTM_EMBED = 8 # Number of LSTM nodes"
   ]
  },
  {
   "cell_type": "code",
   "execution_count": null,
   "metadata": {},
   "outputs": [],
   "source": [
    "train_data = df\n",
    "train_data.shape"
   ]
  },
  {
   "cell_type": "code",
   "execution_count": null,
   "metadata": {},
   "outputs": [],
   "source": [
    "train_data.drop('Answer',inplace=True,axis=1)\n",
    "train_data.head()"
   ]
  },
  {
   "cell_type": "code",
   "execution_count": null,
   "metadata": {},
   "outputs": [],
   "source": [
    "# Apply if question is lower than NUM_WORDS ?\n",
    "True_False_Output = train_data.Question.apply(lambda x : len(x.split()) < MAX_LEN ) \n",
    "train_data = data[True_False_Output]\n",
    "train_data.shape\n",
    "\n",
    "\n",
    "# Be sure that all input Question in arabic Chars \n",
    "\n",
    "train_data.Question = train_data.Question.apply(lambda x: (re.sub('[^\\u0620-\\uFEF0\\s]', '', x)).strip())\n",
    "\n",
    "train_data = train_data[train_data.Question.apply(len) > 0]\n",
    "\n",
    "# Stem the words\n",
    "train_data.Question = train_data.Question.apply(lambda x: \" \".join([stemmer.stem(i) for i in x.split()]))\n",
    "\n",
    "\n",
    "tokenizer = Tokenizer(num_words=NUM_WORDS, lower=False)\n",
    "\n",
    "tokenizer.fit_on_texts(train_data[\"Question\"].values)\n",
    "\n",
    "\n",
    "# Save the tokenizer for later use\n",
    "cPickle.dump(tokenizer, open(\"models/lstm-autoencoder-tokenizer.pickle\", \"wb\"))\n",
    "\n",
    "train_data = tokenizer.texts_to_sequences(train_data[\"Question\"].values)\n",
    "\n",
    "train_data = pad_sequences(train_data, padding='post', truncating='post', maxlen=MAX_LEN)\n"
   ]
  },
  {
   "cell_type": "code",
   "execution_count": null,
   "metadata": {},
   "outputs": [],
   "source": [
    "model = Sequential()\n",
    "model.add(Embedding(NUM_WORDS, 100, input_length=MAX_LEN))\n",
    "model.add(LSTM(LSTM_EMBED, dropout=0.2, recurrent_dropout=0.2, input_shape=(train_data.shape[1], NUM_WORDS)))\n",
    "model.add(RepeatVector(train_data.shape[-1]))\n",
    "model.add(LSTM(LSTM_EMBED, dropout=0.2, recurrent_dropout=0.2, return_sequences=True))\n",
    "model.add(Dense(NUM_WORDS, activation='softmax'))\n",
    "\n",
    "# If That Second time to Train Model \n",
    "#model.load_weights('../models/lstm25/lstm_encoder_weights.h5')\n",
    "\n",
    "model.compile(loss='sparse_categorical_crossentropy', optimizer='adam')\n",
    "# model.fit_generator(batches_generator(train_data), steps_per_epoch=(len(train_data) // BATCH_SIZE))\n",
    "model.fit(train_data, np.expand_dims(train_data, -1), epochs=25, batch_size=BATCH_SIZE)\n",
    "\n",
    "model.save(\"../models/lstm50/lstm-encoder.h5\")\n",
    "model.save_weights(\"../models/lstm50/lstm-encoder_weights.h5\")\n"
   ]
  },
  {
   "cell_type": "code",
   "execution_count": null,
   "metadata": {},
   "outputs": [],
   "source": []
  }
 ],
 "metadata": {
  "kernelspec": {
   "display_name": "Python 3",
   "language": "python",
   "name": "python3"
  },
  "language_info": {
   "codemirror_mode": {
    "name": "ipython",
    "version": 3
   },
   "file_extension": ".py",
   "mimetype": "text/x-python",
   "name": "python",
   "nbconvert_exporter": "python",
   "pygments_lexer": "ipython3",
   "version": "3.7.3"
  }
 },
 "nbformat": 4,
 "nbformat_minor": 4
}
