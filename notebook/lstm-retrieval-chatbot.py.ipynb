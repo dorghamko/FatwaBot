{
 "cells": [
  {
   "cell_type": "code",
   "execution_count": null,
   "metadata": {},
   "outputs": [],
   "source": [
    "import pandas as pd\n",
    "from keras.preprocessing.sequence import pad_sequences\n",
    "from six.moves import cPickle\n",
    "from sklearn.metrics.pairwise import cosine_similarity\n",
    "import numpy as np\n",
    "from nltk.stem import ISRIStemmer\n",
    "from keras.utils import np_utils\n",
    "import tensorflow as tf\n",
    "from keras import backend as K\n",
    "\n",
    "BATCH_SIZE = 16 # Batch size for GPU\n",
    "NUM_WORDS = 10000 # Vocab length\n",
    "MAX_LEN = 20 # Padding length (# of words)\n",
    "LSTM_EMBED = 8 # Number of LSTM nodes\n",
    "\n",
    "#K.set_learning_phase(False)\n",
    "data = pd.read_csv('../dataset/ASKFM-master/full_dataset.csv')\n",
    "tokenizer = cPickle.load(open(\"../models/lstm-autoencoder-tokenizer.pickle\", \"rb\"))\n"
   ]
  },
  {
   "cell_type": "code",
   "execution_count": null,
   "metadata": {},
   "outputs": [],
   "source": [
    "stemmer = ISRIStemmer()\n",
    "\n",
    "# Read the encoder model\n",
    "model = tf.keras.models.load_model('../models/lstm25/lstm-encoder.h5',compile=False)\n",
    "model.load_weights('../models/lstm_encoder_weights.h5')\n",
    "model.compile(loss='sparse_categorical_crossentropy', optimizer='adam')\n"
   ]
  },
  {
   "cell_type": "code",
   "execution_count": null,
   "metadata": {},
   "outputs": [],
   "source": [
    "stemmer = ISRIStemmer()\n",
    "encode = K.function([model.input, K.learning_phase()], [model.layers[1].output])"
   ]
  },
  {
   "cell_type": "code",
   "execution_count": null,
   "metadata": {},
   "outputs": [],
   "source": [
    "Questions = tokenizer.texts_to_sequences(data.Question)\n",
    "# We pad sequences that are shorter than MAX_LEN\n",
    "Questions = pad_sequences(Questions, padding='post', truncating='post', maxlen=MAX_LEN)\n",
    "Questions = np.squeeze(np.array(encode([Questions])))"
   ]
  },
  {
   "cell_type": "code",
   "execution_count": null,
   "metadata": {},
   "outputs": [],
   "source": [
    "while True:\n",
    "    question = input('Please enter a question: \\n')\n",
    "    question = stemmer.stem(question)\n",
    "    question = tokenizer.texts_to_sequences([question])\n",
    "    question = pad_sequences(question, padding='post', truncating='post', maxlen=MAX_LEN)\n",
    "    question = np.squeeze(encode([question]))\n",
    "\n",
    "    rank = cosine_similarity(question.reshape(1, -1), Questions)\n",
    "    top = np.argsort(rank, axis=-1).T[-5:].tolist()\n",
    "    for item in top:\n",
    "        print(data['Answer'].iloc[item].values[0])\n"
   ]
  },
  {
   "cell_type": "code",
   "execution_count": null,
   "metadata": {},
   "outputs": [],
   "source": []
  }
 ],
 "metadata": {
  "kernelspec": {
   "display_name": "Python 3",
   "language": "python",
   "name": "python3"
  },
  "language_info": {
   "codemirror_mode": {
    "name": "ipython",
    "version": 3
   },
   "file_extension": ".py",
   "mimetype": "text/x-python",
   "name": "python",
   "nbconvert_exporter": "python",
   "pygments_lexer": "ipython3",
   "version": "3.7.3"
  }
 },
 "nbformat": 4,
 "nbformat_minor": 4
}
